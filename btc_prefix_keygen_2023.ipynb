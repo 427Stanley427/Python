{
  "nbformat": 4,
  "nbformat_minor": 0,
  "metadata": {
    "colab": {
      "provenance": [],
      "authorship_tag": "ABX9TyOU6mivKFzaW25NPkCHZNzj",
      "include_colab_link": true
    },
    "kernelspec": {
      "name": "python3",
      "display_name": "Python 3"
    },
    "language_info": {
      "name": "python"
    }
  },
  "cells": [
    {
      "cell_type": "markdown",
      "metadata": {
        "id": "view-in-github",
        "colab_type": "text"
      },
      "source": [
        "<a href=\"https://colab.research.google.com/github/427Stanley427/Python/blob/main/btc_prefix_keygen_2023.ipynb\" target=\"_parent\"><img src=\"https://colab.research.google.com/assets/colab-badge.svg\" alt=\"Open In Colab\"/></a>"
      ]
    },
    {
      "cell_type": "code",
      "execution_count": null,
      "metadata": {
        "id": "gA_Jh-w59RTQ"
      },
      "outputs": [],
      "source": [
        "pip install bitcoin"
      ]
    },
    {
      "cell_type": "code",
      "source": [
        "pip install requests"
      ],
      "metadata": {
        "id": "qsqw-HiO9VeX"
      },
      "execution_count": null,
      "outputs": []
    },
    {
      "cell_type": "code",
      "source": [
        "import requests\n",
        "import bitcoin\n",
        "\n",
        "def generate_bitcoin_keypair_with_prefix(prefix):\n",
        "    counter = 0  # Ajout d'un compteur pour suivre le nombre de clés générées\n",
        "    while True:\n",
        "        private_key = bitcoin.random_key()\n",
        "        public_key_uncompressed = bitcoin.privtopub(private_key)\n",
        "        address_uncompressed = bitcoin.pubtoaddr(public_key_uncompressed)\n",
        "\n",
        "        # Afficher les détails de chaque clé générée\n",
        "        print(f\"--- Tentative #{counter + 1} ---\")\n",
        "        print(\"Adresse non compressée:\", address_uncompressed)\n",
        "\n",
        "        public_key_compressed = bitcoin.compress(bitcoin.decode_pubkey(public_key_uncompressed, 'hex'))\n",
        "        address_compressed = bitcoin.pubtoaddr(public_key_compressed)\n",
        "        print(\"Adresse compressée:\", address_compressed)\n",
        "\n",
        "        if address_uncompressed.startswith(prefix):\n",
        "            wif_private_key = bitcoin.encode_privkey(bitcoin.decode_privkey(private_key, 'hex'), 'wif')\n",
        "\n",
        "            return {\n",
        "                \"private_key_hex\": private_key,\n",
        "                \"wif_private_key\": wif_private_key,\n",
        "                \"public_key_uncompressed\": public_key_uncompressed,\n",
        "                \"public_key_compressed\": public_key_compressed,\n",
        "                \"address_uncompressed\": address_uncompressed,\n",
        "                \"address_compressed\": address_compressed\n",
        "            }\n",
        "\n",
        "        counter += 1  # Incrémenter le compteur\n",
        "\n",
        "def get_balance(address):\n",
        "    url = f\"https://api.blockchair.com/bitcoin/dashboards/address/{address}\"\n",
        "    response = requests.get(url)\n",
        "    data = response.json().get(\"data\", {})\n",
        "\n",
        "    if not data:\n",
        "        return 0\n",
        "\n",
        "    address_data = data.get(address, {})\n",
        "    if not address_data:\n",
        "        return 0\n",
        "\n",
        "    balance_satoshis = address_data.get(\"address\", {}).get(\"balance\", 0)\n",
        "    return balance_satoshis / 100_000_000  # Convertir en BTC\n",
        "\n",
        "kp = generate_bitcoin_keypair_with_prefix(\"1X\")\n",
        "balance_uncompressed = get_balance(kp[\"address_uncompressed\"])\n",
        "balance_compressed = get_balance(kp[\"address_compressed\"])\n",
        "\n",
        "print(\"Clé privée hex :\", kp[\"private_key_hex\"])\n",
        "print(\"Clé privée WIF :\", kp[\"wif_private_key\"])\n",
        "print(\"Clé publique non compressée :\", kp[\"public_key_uncompressed\"])\n",
        "print(\"Clé publique compressée :\", kp[\"public_key_compressed\"])\n",
        "print(\"Adresse non compressée :\", kp[\"address_uncompressed\"], \"| Balance:\", balance_uncompressed, \"BTC\")\n",
        "print(\"Adresse compressée :\", kp[\"address_compressed\"], \"| Balance:\", balance_compressed, \"BTC\")\n"
      ],
      "metadata": {
        "id": "81A0eSyv9YBR"
      },
      "execution_count": null,
      "outputs": []
    }
  ]
}