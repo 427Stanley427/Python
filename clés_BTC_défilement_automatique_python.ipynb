{
  "nbformat": 4,
  "nbformat_minor": 0,
  "metadata": {
    "colab": {
      "provenance": [],
      "authorship_tag": "ABX9TyO17ONw9zYeLC14bmN/hVgd",
      "include_colab_link": true
    },
    "kernelspec": {
      "name": "python3",
      "display_name": "Python 3"
    },
    "language_info": {
      "name": "python"
    }
  },
  "cells": [
    {
      "cell_type": "markdown",
      "metadata": {
        "id": "view-in-github",
        "colab_type": "text"
      },
      "source": [
        "<a href=\"https://colab.research.google.com/github/427Stanley427/Python/blob/main/cl%C3%A9s_BTC_d%C3%A9filement_automatique_python.ipynb\" target=\"_parent\"><img src=\"https://colab.research.google.com/assets/colab-badge.svg\" alt=\"Open In Colab\"/></a>"
      ]
    },
    {
      "cell_type": "code",
      "execution_count": null,
      "metadata": {
        "id": "nBQ63Qgik4KR"
      },
      "outputs": [],
      "source": [
        "pip install bitcoin"
      ]
    },
    {
      "cell_type": "code",
      "source": [
        "pip install requests"
      ],
      "metadata": {
        "id": "SnqIjYHPl4Et"
      },
      "execution_count": null,
      "outputs": []
    },
    {
      "cell_type": "code",
      "source": [
        "import requests\n",
        "import bitcoin\n",
        "import random\n",
        "\n",
        "def generate_bitcoin_keypair_with_prefix():\n",
        "    while True:\n",
        "        private_key = bitcoin.random_key()\n",
        "        public_key_uncompressed = bitcoin.privtopub(private_key)\n",
        "\n",
        "        # Décider du type d'adresse en fonction de la probabilité\n",
        "        r = random.random()  # Génère un nombre aléatoire entre 0 et 1\n",
        "        if r < 0.3:\n",
        "            prefix = \"1\"\n",
        "            address = bitcoin.pubtoaddr(public_key_uncompressed)\n",
        "            address_type = \"P2PKH\"\n",
        "        elif 0.3 <= r < 0.6:\n",
        "            prefix = \"3\"\n",
        "            address = bitcoin.pubtoaddr(public_key_uncompressed)\n",
        "            address_type = \"P2SH\"\n",
        "        else:\n",
        "            prefix = \"bc1\"\n",
        "            address = bitcoin.pubtosegwitaddr(public_key_uncompressed)\n",
        "            address_type = \"SegWit P2WPKH\"\n",
        "\n",
        "        print(f\"Vérification de l'adresse ({address_type}): {address}\")\n",
        "        balance = get_balance(address)\n",
        "\n",
        "        if balance > 0:\n",
        "            wif_private_key = bitcoin.encode_privkey(private_key, 'wif')\n",
        "            return {\n",
        "                \"private_key_hex\": private_key,\n",
        "                \"wif_private_key\": wif_private_key,\n",
        "                \"address_type\": address_type,\n",
        "                \"address\": address,\n",
        "                \"balance\": balance\n",
        "            }\n",
        "\n",
        "def get_balance(address):\n",
        "    url = f\"https://api.blockchair.com/bitcoin/dashboards/address/{address}\"\n",
        "    response = requests.get(url)\n",
        "\n",
        "    # Vérifier si la requête a réussi\n",
        "    if response.status_code != 200:\n",
        "        print(f\"Erreur lors de la récupération du solde pour l'adresse {address}: {response.text}\")\n",
        "        return 0\n",
        "\n",
        "    try:\n",
        "        data = response.json().get(\"data\", {})\n",
        "    except requests.exceptions.JSONDecodeError:\n",
        "        print(\"Erreur lors de la décodage JSON. Réponse non valide ou vide reçue.\")\n",
        "        return 0\n",
        "\n",
        "    address_data = data.get(address, {})\n",
        "    balance_satoshis = address_data.get(\"address\", {}).get(\"balance\", 0)\n",
        "    return balance_satoshis / 100_000_000  # Convertir en BTC\n",
        "\n",
        "kp = generate_bitcoin_keypair_with_prefix()\n",
        "\n",
        "print(\"\\nAdresse avec balance positive trouvée!\")\n",
        "print(\"Clé privée hex :\", kp[\"private_key_hex\"])\n",
        "print(\"Clé privée WIF :\", kp[\"wif_private_key\"])\n",
        "print(f\"Adresse ({kp['address_type']}) :\", kp[\"address\"], \"| Balance:\", kp[\"balance\"], \"BTC\")\n"
      ],
      "metadata": {
        "id": "uvvR3uOfl6gK"
      },
      "execution_count": null,
      "outputs": []
    }
  ]
}