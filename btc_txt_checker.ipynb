{
  "nbformat": 4,
  "nbformat_minor": 0,
  "metadata": {
    "colab": {
      "provenance": [],
      "authorship_tag": "ABX9TyM4jjCItsE4PjQ6HxnupDD5",
      "include_colab_link": true
    },
    "kernelspec": {
      "name": "python3",
      "display_name": "Python 3"
    },
    "language_info": {
      "name": "python"
    }
  },
  "cells": [
    {
      "cell_type": "markdown",
      "metadata": {
        "id": "view-in-github",
        "colab_type": "text"
      },
      "source": [
        "<a href=\"https://colab.research.google.com/github/427Stanley427/Python/blob/main/btc_txt_checker.ipynb\" target=\"_parent\"><img src=\"https://colab.research.google.com/assets/colab-badge.svg\" alt=\"Open In Colab\"/></a>"
      ]
    },
    {
      "cell_type": "code",
      "execution_count": null,
      "metadata": {
        "id": "PYkWU9QJoAAd"
      },
      "outputs": [],
      "source": [
        "pip install bitcoin"
      ]
    },
    {
      "cell_type": "code",
      "source": [
        "import bitcoin\n",
        "\n",
        "def is_address_in_file(address):\n",
        "    \"\"\"Vérifie si une adresse est présente dans le fichier btc.txt.\"\"\"\n",
        "    with open('btc.txt', 'r') as file:\n",
        "        addresses = file.readlines()\n",
        "        return address + '\\n' in addresses  # On ajoute un saut de ligne car readlines() conserve les sauts de ligne\n",
        "\n",
        "def generate_bitcoin_keypair_with_prefix(prefixes):\n",
        "    while True:\n",
        "        private_key = bitcoin.random_key()\n",
        "        public_key_uncompressed = bitcoin.privtopub(private_key)\n",
        "\n",
        "        # Générer une adresse P2PKH\n",
        "        address_p2pkh = bitcoin.pubtoaddr(public_key_uncompressed)\n",
        "        if address_p2pkh.startswith(\"1\") and \"1\" in prefixes:\n",
        "            address_type = \"P2PKH\"\n",
        "            address = address_p2pkh\n",
        "\n",
        "        # Générer une adresse P2SH\n",
        "        elif address_p2pkh.startswith(\"3\") and \"3\" in prefixes:\n",
        "            address_type = \"P2SH\"\n",
        "            address = address_p2pkh\n",
        "\n",
        "        # Générer une adresse SegWit P2WPKH\n",
        "        else:\n",
        "            address_segwit = bitcoin.pubtosegwitaddr(public_key_uncompressed)\n",
        "            if address_segwit.startswith(\"bc1\") and \"bc1\" in prefixes:\n",
        "                address_type = \"SegWit P2WPKH\"\n",
        "                address = address_segwit\n",
        "            else:\n",
        "                print(f\"Adresse essayée : {address_segwit}\")\n",
        "                continue\n",
        "\n",
        "        print(f\"Adresse essayée : {address}\")\n",
        "\n",
        "        if is_address_in_file(address):\n",
        "            wif_private_key = bitcoin.encode_privkey(bitcoin.decode_privkey(private_key, 'hex'), 'wif')\n",
        "            # Si une correspondance est trouvée, on écrit les détails dans resultat.txt\n",
        "            with open('resultat.txt', 'a') as file:\n",
        "                file.write(f\"Clé privée hex : {private_key}\\n\")\n",
        "                file.write(f\"Clé privée WIF : {wif_private_key}\\n\")\n",
        "                file.write(f\"Adresse ({address_type}) : {address}\\n\\n\")\n",
        "            return {\n",
        "                \"private_key_hex\": private_key,\n",
        "                \"wif_private_key\": wif_private_key,\n",
        "                \"address_type\": address_type,\n",
        "                \"address\": address\n",
        "            }\n",
        "\n",
        "prefixes_to_check = [\"1\", \"3\", \"bc1\"]\n",
        "kp = generate_bitcoin_keypair_with_prefix(prefixes_to_check)\n",
        "\n",
        "print(\"Clé privée hex :\", kp[\"private_key_hex\"])\n",
        "print(\"Clé privée WIF :\", kp[\"wif_private_key\"])\n",
        "print(f\"Adresse ({kp['address_type']}) :\", kp[\"address\"])\n"
      ],
      "metadata": {
        "id": "w764yjWioHEz"
      },
      "execution_count": null,
      "outputs": []
    }
  ]
}