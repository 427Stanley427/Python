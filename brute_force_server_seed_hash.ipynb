{
  "nbformat": 4,
  "nbformat_minor": 0,
  "metadata": {
    "colab": {
      "provenance": [],
      "authorship_tag": "ABX9TyN0IoA9KNqkNu1wgOSg6mag",
      "include_colab_link": true
    },
    "kernelspec": {
      "name": "python3",
      "display_name": "Python 3"
    },
    "language_info": {
      "name": "python"
    }
  },
  "cells": [
    {
      "cell_type": "markdown",
      "metadata": {
        "id": "view-in-github",
        "colab_type": "text"
      },
      "source": [
        "<a href=\"https://colab.research.google.com/github/427Stanley427/Python/blob/main/brute_force_server_seed_hash.ipynb\" target=\"_parent\"><img src=\"https://colab.research.google.com/assets/colab-badge.svg\" alt=\"Open In Colab\"/></a>"
      ]
    },
    {
      "cell_type": "code",
      "execution_count": null,
      "metadata": {
        "id": "YniUzj1QLieN"
      },
      "outputs": [],
      "source": [
        "import hashlib\n",
        "import random\n",
        "import string\n",
        "\n",
        "def random_string(length=64):\n",
        "    \"\"\"Generate a random string of fixed length.\"\"\"\n",
        "    letters = string.ascii_lowercase + string.ascii_uppercase + string.digits\n",
        "    return ''.join(random.choice(letters) for i in range(length))\n",
        "\n",
        "def find_server_seed(target_hash):\n",
        "    attempts = 0\n",
        "    while True:\n",
        "        potential_seed = random_string()\n",
        "        calculated_hash = hashlib.sha256(potential_seed.encode()).hexdigest()\n",
        "\n",
        "        # Print every 10000th attempt to show progress\n",
        "        if attempts % 10000 == 0:\n",
        "            print(f\"Attempts: {attempts}, Current hash: {calculated_hash}\")\n",
        "\n",
        "        if calculated_hash == target_hash:\n",
        "            print(f\"\\nFound matching server_seed after {attempts} attempts!\")\n",
        "            print(f\"server_seed: {potential_seed}\")\n",
        "            break\n",
        "\n",
        "        attempts += 1\n",
        "\n",
        "if __name__ == \"__main__\":\n",
        "    server_seed_hash = \"9f791e8c68d5fe3328e2bb04af099e0abe30e28d9eafe32d56aec4cc85bb0331\"\n",
        "    find_server_seed(server_seed_hash)\n"
      ]
    }
  ]
}