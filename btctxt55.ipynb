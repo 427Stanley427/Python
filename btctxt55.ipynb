{
  "nbformat": 4,
  "nbformat_minor": 0,
  "metadata": {
    "colab": {
      "provenance": [],
      "authorship_tag": "ABX9TyNF4CuxdffautcHVivYeiwR",
      "include_colab_link": true
    },
    "kernelspec": {
      "name": "python3",
      "display_name": "Python 3"
    },
    "language_info": {
      "name": "python"
    }
  },
  "cells": [
    {
      "cell_type": "markdown",
      "metadata": {
        "id": "view-in-github",
        "colab_type": "text"
      },
      "source": [
        "<a href=\"https://colab.research.google.com/github/427Stanley427/Python/blob/main/btctxt55.ipynb\" target=\"_parent\"><img src=\"https://colab.research.google.com/assets/colab-badge.svg\" alt=\"Open In Colab\"/></a>"
      ]
    },
    {
      "cell_type": "code",
      "execution_count": null,
      "metadata": {
        "id": "0yZ7hgTSsK5x"
      },
      "outputs": [],
      "source": [
        "pip install bitcoin"
      ]
    },
    {
      "cell_type": "code",
      "source": [
        "import bitcoin\n",
        "\n",
        "# Charger toutes les adresses du fichier btc.txt dans un ensemble\n",
        "with open('btc.txt', 'r') as file:\n",
        "    addresses_set = set(line.strip() for line in file)\n",
        "\n",
        "def is_address_in_set(address):\n",
        "    \"\"\"Vérifie si une adresse est présente dans l'ensemble des adresses.\"\"\"\n",
        "    return address in addresses_set\n",
        "\n",
        "def generate_bitcoin_keypair_with_prefix(prefixes):\n",
        "    attempt_count = 0  # Compteur pour le nombre d'essais\n",
        "    file_count = 1  # Compteur pour les fichiers\n",
        "    entries_in_current_file = 0  # Nombre d'entrées dans le fichier actuel\n",
        "\n",
        "    while True:\n",
        "        private_key = bitcoin.random_key()\n",
        "        public_key_uncompressed = bitcoin.privtopub(private_key)\n",
        "\n",
        "        # Générer une adresse P2PKH\n",
        "        address_p2pkh = bitcoin.pubtoaddr(public_key_uncompressed)\n",
        "        if address_p2pkh.startswith(\"1\") and \"1\" in prefixes:\n",
        "            address_type = \"P2PKH\"\n",
        "            address = address_p2pkh\n",
        "        # Générer une adresse P2SH\n",
        "        elif address_p2pkh.startswith(\"3\") and \"3\" in prefixes:\n",
        "            address_type = \"P2SH\"\n",
        "            address = address_p2pkh\n",
        "        # Générer une adresse SegWit P2WPKH\n",
        "        else:\n",
        "            address_segwit = bitcoin.pubtosegwitaddr(public_key_uncompressed)\n",
        "            if address_segwit.startswith(\"bc1\") and \"bc1\" in prefixes:\n",
        "                address_type = \"SegWit P2WPKH\"\n",
        "                address = address_segwit\n",
        "            else:\n",
        "                print(f\"Adresse essayée : {address_segwit}\")\n",
        "                continue\n",
        "\n",
        "        attempt_count += 1\n",
        "        entries_in_current_file += 1\n",
        "        print(f\"Adresse essayée : {address}\")\n",
        "\n",
        "        # Écrire dans random_N.txt tous les 50 000 essais\n",
        "        if entries_in_current_file > 50000:\n",
        "            entries_in_current_file = 1\n",
        "            file_count += 1\n",
        "\n",
        "        wif_private_key = bitcoin.encode_privkey(bitcoin.decode_privkey(private_key, 'hex'), 'wif')\n",
        "        with open(f'random_{file_count}.txt', 'a') as rand_file:\n",
        "            rand_file.write(f\"Essai n°{attempt_count}\\n\")\n",
        "            rand_file.write(f\"Clé privée hex : {private_key}\\n\")\n",
        "            rand_file.write(f\"Clé privée WIF : {wif_private_key}\\n\")\n",
        "            rand_file.write(f\"Adresse ({address_type}) : {address}\\n\\n\")\n",
        "\n",
        "        if is_address_in_set(address):\n",
        "            # Si une correspondance est trouvée, on écrit les détails dans resultat.txt\n",
        "            with open('resultat.txt', 'a') as file:\n",
        "                file.write(f\"Clé privée hex : {private_key}\\n\")\n",
        "                file.write(f\"Clé privée WIF : {wif_private_key}\\n\")\n",
        "                file.write(f\"Adresse ({address_type}) : {address}\\n\\n\")\n",
        "            return {\n",
        "                \"private_key_hex\": private_key,\n",
        "                \"wif_private_key\": wif_private_key,\n",
        "                \"address_type\": address_type,\n",
        "                \"address\": address\n",
        "            }\n",
        "\n",
        "prefixes_to_check = [\"1\", \"3\", \"bc1\"]\n",
        "kp = generate_bitcoin_keypair_with_prefix(prefixes_to_check)\n",
        "\n",
        "print(\"Clé privée hex :\", kp[\"private_key_hex\"])\n",
        "print(\"Clé privée WIF :\", kp[\"wif_private_key\"])\n",
        "print(f\"Adresse ({kp['address_type']}) :\", kp[\"address\"])\n"
      ],
      "metadata": {
        "id": "Qhs0KcjJsL69"
      },
      "execution_count": null,
      "outputs": []
    }
  ]
}