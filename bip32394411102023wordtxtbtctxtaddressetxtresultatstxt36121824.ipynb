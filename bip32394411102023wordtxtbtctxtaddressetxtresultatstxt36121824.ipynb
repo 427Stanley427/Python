{
  "nbformat": 4,
  "nbformat_minor": 0,
  "metadata": {
    "colab": {
      "provenance": [],
      "authorship_tag": "ABX9TyMnGRWNMRFc8n4cvzVzQuKo",
      "include_colab_link": true
    },
    "kernelspec": {
      "name": "python3",
      "display_name": "Python 3"
    },
    "language_info": {
      "name": "python"
    }
  },
  "cells": [
    {
      "cell_type": "markdown",
      "metadata": {
        "id": "view-in-github",
        "colab_type": "text"
      },
      "source": [
        "<a href=\"https://colab.research.google.com/github/427Stanley427/Python/blob/main/bip32394411102023wordtxtbtctxtaddressetxtresultatstxt36121824.ipynb\" target=\"_parent\"><img src=\"https://colab.research.google.com/assets/colab-badge.svg\" alt=\"Open In Colab\"/></a>"
      ]
    },
    {
      "cell_type": "code",
      "source": [
        "pip install bitcoin mnemonic bip32utils"
      ],
      "metadata": {
        "id": "weTp4BrJVUCS"
      },
      "execution_count": null,
      "outputs": []
    },
    {
      "cell_type": "code",
      "source": [
        "import os\n",
        "import random\n",
        "from bitcoin import random_key, privtopub, pubtoaddr, encode_privkey, decode_privkey, pubtosegwitaddr\n",
        "from mnemonic import Mnemonic\n",
        "from bip32utils import BIP32Key\n",
        "\n",
        "# Charger les adresses du fichier btc.txt\n",
        "with open('btc.txt', 'r') as file:\n",
        "    addresses_set = set(line.strip() for line in file)\n",
        "\n",
        "# Charger les mots BIP39\n",
        "with open('words.txt', 'r') as file:\n",
        "    bip39_words = [line.strip() for line in file]\n",
        "\n",
        "def is_address_in_set(address):\n",
        "    return address in addresses_set\n",
        "\n",
        "def generate_keypair_from_mnemonic(mnemonic_phrase, bip_type):\n",
        "    seed = Mnemonic.to_seed(mnemonic_phrase)\n",
        "    bip32_master_key = BIP32Key.fromEntropy(seed)\n",
        "\n",
        "    # BIP-44 dérivation\n",
        "    if bip_type == 44:\n",
        "        child_key = bip32_master_key.ChildKey(44 + BIP32Key.HARDEN).ChildKey(0 + BIP32Key.HARDEN).ChildKey(0 + BIP32Key.HARDEN).ChildKey(0).ChildKey(0)\n",
        "    else:  # BIP-32 ou BIP-39 (le comportement est le même dans ce contexte)\n",
        "        child_key = bip32_master_key\n",
        "\n",
        "    private_key = child_key.WalletImportFormat()\n",
        "    public_key = privtopub(private_key)\n",
        "    address = pubtoaddr(public_key)\n",
        "\n",
        "    return private_key, address\n",
        "\n",
        "def generate_bitcoin_keypair_with_prefix(prefixes):\n",
        "    attempt_count = 0\n",
        "    file_count = 1\n",
        "    entries_in_current_file = 0\n",
        "\n",
        "    while True:\n",
        "        word_count = random.choice([3, 6, 12, 18, 24])\n",
        "        mnemonic_phrase = ' '.join(random.choices(bip39_words, k=word_count))\n",
        "\n",
        "        bip_type = random.choice([32, 39, 44])\n",
        "        private_key, address = generate_keypair_from_mnemonic(mnemonic_phrase, bip_type)\n",
        "\n",
        "        if address.startswith(tuple(prefixes)):\n",
        "            attempt_count += 1\n",
        "            entries_in_current_file += 1\n",
        "\n",
        "            if entries_in_current_file > 100000:\n",
        "                entries_in_current_file = 1\n",
        "                file_count += 1\n",
        "\n",
        "            with open(f'addresses_{file_count}.txt', 'a') as rand_file:\n",
        "                rand_file.write(f\"Essai n°{attempt_count} - BIP-{bip_type}\\n\")\n",
        "                rand_file.write(f\"Clé privée : {private_key}\\n\")\n",
        "                rand_file.write(f\"Adresse : {address}\\n\")\n",
        "                rand_file.write(f\"Phrase mnémonique : {mnemonic_phrase}\\n\\n\")\n",
        "\n",
        "            if is_address_in_set(address):\n",
        "                with open('resultat.txt', 'a') as file:\n",
        "                    file.write(f\"Clé privée : {private_key}\\n\")\n",
        "                    file.write(f\"Adresse : {address}\\n\")\n",
        "                    file.write(f\"BIP : {bip_type}\\n\")\n",
        "                    file.write(f\"Phrase mnémonique : {mnemonic_phrase}\\n\\n\")\n",
        "\n",
        "prefixes_to_check = [\"1\", \"3\", \"bc1\"]\n",
        "generate_bitcoin_keypair_with_prefix(prefixes_to_check)\n"
      ],
      "metadata": {
        "id": "artTF-dEVYd5"
      },
      "execution_count": null,
      "outputs": []
    }
  ]
}