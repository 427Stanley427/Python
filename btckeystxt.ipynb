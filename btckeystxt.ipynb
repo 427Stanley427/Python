{
  "nbformat": 4,
  "nbformat_minor": 0,
  "metadata": {
    "colab": {
      "provenance": [],
      "authorship_tag": "ABX9TyNWyWlIzbsJ8kjuTn/8CX7z",
      "include_colab_link": true
    },
    "kernelspec": {
      "name": "python3",
      "display_name": "Python 3"
    },
    "language_info": {
      "name": "python"
    }
  },
  "cells": [
    {
      "cell_type": "markdown",
      "metadata": {
        "id": "view-in-github",
        "colab_type": "text"
      },
      "source": [
        "<a href=\"https://colab.research.google.com/github/427Stanley427/Python/blob/main/btckeystxt.ipynb\" target=\"_parent\"><img src=\"https://colab.research.google.com/assets/colab-badge.svg\" alt=\"Open In Colab\"/></a>"
      ]
    },
    {
      "cell_type": "code",
      "execution_count": null,
      "metadata": {
        "id": "QD9IGB_IAVm5"
      },
      "outputs": [],
      "source": [
        "pip install bitcoin"
      ]
    },
    {
      "cell_type": "code",
      "source": [
        "pip install requests"
      ],
      "metadata": {
        "id": "oJje4FVxAaFA"
      },
      "execution_count": null,
      "outputs": []
    },
    {
      "cell_type": "code",
      "source": [
        "import requests\n",
        "import bitcoin\n",
        "\n",
        "def generate_bitcoin_keypair_with_prefix(prefix):\n",
        "    counter = 0  # Compteur pour suivre le nombre de clés générées\n",
        "    file_counter = 1  # Compteur pour les noms de fichiers\n",
        "    filename = f\"adresse{file_counter}.txt\"\n",
        "    file = open(filename, \"w\")\n",
        "\n",
        "    while True:\n",
        "        private_key = bitcoin.random_key()\n",
        "        public_key_uncompressed = bitcoin.privtopub(private_key)\n",
        "        address_uncompressed = bitcoin.pubtoaddr(public_key_uncompressed)\n",
        "\n",
        "        wif_private_key = bitcoin.encode_privkey(bitcoin.decode_privkey(private_key, 'hex'), 'wif')\n",
        "\n",
        "        # Sauvegarde des détails dans le fichier\n",
        "        file.write(f\"--- Tentative #{counter + 1} ---\\n\")\n",
        "        file.write(f\"Clé privée WIF: {wif_private_key}\\n\")\n",
        "        file.write(f\"Adresse non compressée: {address_uncompressed}\\n\")\n",
        "\n",
        "        public_key_compressed = bitcoin.compress(bitcoin.decode_pubkey(public_key_uncompressed, 'hex'))\n",
        "        address_compressed = bitcoin.pubtoaddr(public_key_compressed)\n",
        "        file.write(f\"Adresse compressée: {address_compressed}\\n\\n\")\n",
        "\n",
        "        # Affichage des détails\n",
        "        print(f\"--- Tentative #{counter + 1} ---\")\n",
        "        print(f\"Clé privée WIF: {wif_private_key}\")\n",
        "        print(f\"Adresse non compressée: {address_uncompressed}\")\n",
        "        print(f\"Adresse compressée: {address_compressed}\")\n",
        "\n",
        "        if address_uncompressed.startswith(prefix):\n",
        "            file.close()\n",
        "            return {\n",
        "                \"private_key_hex\": private_key,\n",
        "                \"wif_private_key\": wif_private_key,\n",
        "                \"public_key_uncompressed\": public_key_uncompressed,\n",
        "                \"public_key_compressed\": public_key_compressed,\n",
        "                \"address_uncompressed\": address_uncompressed,\n",
        "                \"address_compressed\": address_compressed\n",
        "            }\n",
        "\n",
        "        counter += 1\n",
        "\n",
        "        # Si nous avons atteint 50000 adresses, nous créons un nouveau fichier\n",
        "        if counter % 50000 == 0:\n",
        "            file_counter += 1\n",
        "            file.close()\n",
        "            filename = f\"adresse{file_counter}.txt\"\n",
        "            file = open(filename, \"w\")\n",
        "\n",
        "def get_balance(address):\n",
        "    url = f\"https://api.blockchair.com/bitcoin/dashboards/address/{address}\"\n",
        "    response = requests.get(url)\n",
        "    data = response.json().get(\"data\", {})\n",
        "\n",
        "    if not data:\n",
        "        return 0\n",
        "\n",
        "    address_data = data.get(address, {})\n",
        "    if not address_data:\n",
        "        return 0\n",
        "\n",
        "    balance_satoshis = address_data.get(\"address\", {}).get(\"balance\", 0)\n",
        "    return balance_satoshis / 100_000_000  # Convertir en BTC\n",
        "\n",
        "kp = generate_bitcoin_keypair_with_prefix(\"1X\")\n",
        "balance_uncompressed = get_balance(kp[\"address_uncompressed\"])\n",
        "balance_compressed = get_balance(kp[\"address_compressed\"])\n",
        "\n",
        "print(\"Clé privée hex :\", kp[\"private_key_hex\"])\n",
        "print(\"Clé privée WIF :\", kp[\"wif_private_key\"])\n",
        "print(\"Clé publique non compressée :\", kp[\"public_key_uncompressed\"])\n",
        "print(\"Clé publique compressée :\", kp[\"public_key_compressed\"])\n",
        "print(\"Adresse non compressée :\", kp[\"address_uncompressed\"], \"| Balance:\", balance_uncompressed, \"BTC\")\n",
        "print(\"Adresse compressée :\", kp[\"address_compressed\"], \"| Balance:\", balance_compressed, \"BTC\")\n"
      ],
      "metadata": {
        "id": "OcYGlubZAfiy"
      },
      "execution_count": null,
      "outputs": []
    }
  ]
}