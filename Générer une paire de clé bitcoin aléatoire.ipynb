{
  "nbformat": 4,
  "nbformat_minor": 0,
  "metadata": {
    "colab": {
      "provenance": [],
      "authorship_tag": "ABX9TyPECVqP44zsA2BR8Q/Y21iC",
      "include_colab_link": true
    },
    "kernelspec": {
      "name": "python3",
      "display_name": "Python 3"
    },
    "language_info": {
      "name": "python"
    }
  },
  "cells": [
    {
      "cell_type": "markdown",
      "metadata": {
        "id": "view-in-github",
        "colab_type": "text"
      },
      "source": [
        "<a href=\"https://colab.research.google.com/github/427Stanley427/Python/blob/main/G%C3%A9n%C3%A9rer%20une%20paire%20de%20cl%C3%A9%20bitcoin%20al%C3%A9atoire.ipynb\" target=\"_parent\"><img src=\"https://colab.research.google.com/assets/colab-badge.svg\" alt=\"Open In Colab\"/></a>"
      ]
    },
    {
      "cell_type": "code",
      "source": [
        "pip install bitcoin"
      ],
      "metadata": {
        "colab": {
          "base_uri": "https://localhost:8080/"
        },
        "id": "pcS15y9BWyoL",
        "outputId": "7a45deef-5c1b-4d86-f6fe-e82fb28678d9"
      },
      "execution_count": 3,
      "outputs": [
        {
          "output_type": "stream",
          "name": "stdout",
          "text": [
            "Requirement already satisfied: bitcoin in /usr/local/lib/python3.10/dist-packages (1.1.42)\n"
          ]
        }
      ]
    },
    {
      "cell_type": "code",
      "source": [
        "pip install requests"
      ],
      "metadata": {
        "colab": {
          "base_uri": "https://localhost:8080/"
        },
        "id": "Xz7zBun1Wy4i",
        "outputId": "ba49389a-583a-4884-a7b0-b8d246104be7"
      },
      "execution_count": 4,
      "outputs": [
        {
          "output_type": "stream",
          "name": "stdout",
          "text": [
            "Requirement already satisfied: requests in /usr/local/lib/python3.10/dist-packages (2.31.0)\n",
            "Requirement already satisfied: charset-normalizer<4,>=2 in /usr/local/lib/python3.10/dist-packages (from requests) (3.2.0)\n",
            "Requirement already satisfied: idna<4,>=2.5 in /usr/local/lib/python3.10/dist-packages (from requests) (3.4)\n",
            "Requirement already satisfied: urllib3<3,>=1.21.1 in /usr/local/lib/python3.10/dist-packages (from requests) (1.26.16)\n",
            "Requirement already satisfied: certifi>=2017.4.17 in /usr/local/lib/python3.10/dist-packages (from requests) (2023.7.22)\n"
          ]
        }
      ]
    },
    {
      "cell_type": "code",
      "source": [
        "import requests\n",
        "import bitcoin\n",
        "\n",
        "def generate_bitcoin_keypair():\n",
        "    private_key = bitcoin.random_key()\n",
        "    public_key_uncompressed = bitcoin.privtopub(private_key)\n",
        "    public_key_compressed = bitcoin.compress(bitcoin.decode_pubkey(public_key_uncompressed, 'hex'))\n",
        "    address_uncompressed = bitcoin.pubtoaddr(public_key_uncompressed)\n",
        "    address_compressed = bitcoin.pubtoaddr(public_key_compressed)\n",
        "\n",
        "    wif_private_key = bitcoin.encode_privkey(bitcoin.decode_privkey(private_key, 'hex'), 'wif')\n",
        "\n",
        "    return {\n",
        "        \"private_key_hex\": private_key,\n",
        "        \"wif_private_key\": wif_private_key,\n",
        "        \"public_key_uncompressed\": public_key_uncompressed,\n",
        "        \"public_key_compressed\": public_key_compressed,\n",
        "        \"address_uncompressed\": address_uncompressed,\n",
        "        \"address_compressed\": address_compressed\n",
        "    }\n",
        "\n",
        "def get_balance(address):\n",
        "    url = f\"https://api.blockchair.com/bitcoin/dashboards/address/{address}\"\n",
        "    response = requests.get(url)\n",
        "    data = response.json().get(\"data\", {})\n",
        "\n",
        "    if not data:\n",
        "        return 0\n",
        "\n",
        "    address_data = data.get(address, {})\n",
        "    if not address_data:\n",
        "        return 0\n",
        "\n",
        "    balance_satoshis = address_data.get(\"address\", {}).get(\"balance\", 0)\n",
        "    return balance_satoshis / 100_000_000  # Convertir en BTC\n",
        "\n",
        "kp = generate_bitcoin_keypair()\n",
        "balance_uncompressed = get_balance(kp[\"address_uncompressed\"])\n",
        "balance_compressed = get_balance(kp[\"address_compressed\"])\n",
        "\n",
        "print(\"Clé privée hex :\", kp[\"private_key_hex\"])\n",
        "print(\"Clé privée WIF :\", kp[\"wif_private_key\"])\n",
        "print(\"Clé publique non compressée :\", kp[\"public_key_uncompressed\"])\n",
        "print(\"Clé publique compressée :\", kp[\"public_key_compressed\"])\n",
        "print(\"Adresse non compressée :\", kp[\"address_uncompressed\"], \"| Balance:\", balance_uncompressed, \"BTC\")\n",
        "print(\"Adresse compressée :\", kp[\"address_compressed\"], \"| Balance:\", balance_compressed, \"BTC\")\n"
      ],
      "metadata": {
        "id": "wETl2mxAXzEL"
      },
      "execution_count": null,
      "outputs": []
    }
  ]
}