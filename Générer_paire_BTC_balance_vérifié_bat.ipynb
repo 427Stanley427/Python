{
  "nbformat": 4,
  "nbformat_minor": 0,
  "metadata": {
    "colab": {
      "provenance": [],
      "authorship_tag": "ABX9TyPZy9QjcC7OqNsSk+8CWZvH",
      "include_colab_link": true
    },
    "kernelspec": {
      "name": "python3",
      "display_name": "Python 3"
    },
    "language_info": {
      "name": "python"
    }
  },
  "cells": [
    {
      "cell_type": "markdown",
      "metadata": {
        "id": "view-in-github",
        "colab_type": "text"
      },
      "source": [
        "<a href=\"https://colab.research.google.com/github/427Stanley427/Python/blob/main/G%C3%A9n%C3%A9rer_paire_BTC_balance_v%C3%A9rifi%C3%A9_bat.ipynb\" target=\"_parent\"><img src=\"https://colab.research.google.com/assets/colab-badge.svg\" alt=\"Open In Colab\"/></a>"
      ]
    },
    {
      "cell_type": "code",
      "execution_count": null,
      "metadata": {
        "id": "d98l-BZtYU-A"
      },
      "outputs": [],
      "source": [
        "pip install bitcoin"
      ]
    },
    {
      "cell_type": "code",
      "source": [
        "pip install requests"
      ],
      "metadata": {
        "id": "IVD5N-YuY0kA"
      },
      "execution_count": null,
      "outputs": []
    },
    {
      "cell_type": "code",
      "source": [
        "import requests\n",
        "import bitcoin\n",
        "\n",
        "def generate_bitcoin_keypair_with_prefix(prefixes):\n",
        "    while True:\n",
        "        private_key = bitcoin.random_key()\n",
        "        public_key_uncompressed = bitcoin.privtopub(private_key)\n",
        "\n",
        "        # Générer une adresse P2PKH\n",
        "        address_p2pkh = bitcoin.pubtoaddr(public_key_uncompressed)\n",
        "        if address_p2pkh.startswith(\"1\") and \"1\" in prefixes:\n",
        "            address_type = \"P2PKH\"\n",
        "            address = address_p2pkh\n",
        "\n",
        "        # Générer une adresse P2SH\n",
        "        elif address_p2pkh.startswith(\"3\") and \"3\" in prefixes:\n",
        "            address_type = \"P2SH\"\n",
        "            address = address_p2pkh\n",
        "\n",
        "        # Générer une adresse SegWit P2WPKH\n",
        "        else:\n",
        "            address_segwit = bitcoin.pubtosegwitaddr(public_key_uncompressed)\n",
        "            if address_segwit.startswith(\"bc1\") and \"bc1\" in prefixes:\n",
        "                address_type = \"SegWit P2WPKH\"\n",
        "                address = address_segwit\n",
        "            else:\n",
        "                continue\n",
        "\n",
        "        print(f\"Vérification de l'adresse ({address_type}): {address}\")  # Affiche l'adresse vérifiée\n",
        "        balance = get_balance(address)\n",
        "\n",
        "        if balance > 0:\n",
        "            return {\n",
        "                \"private_key_hex\": private_key,\n",
        "                \"wif_private_key\": wif_private_key,\n",
        "                \"address_type\": address_type,\n",
        "                \"address\": address,\n",
        "                \"balance\": balance\n",
        "            }\n",
        "\n",
        "def get_balance(address):\n",
        "    url = f\"https://api.blockchair.com/bitcoin/dashboards/address/{address}\"\n",
        "    response = requests.get(url)\n",
        "    data = response.json().get(\"data\", {})\n",
        "\n",
        "    if not data:\n",
        "        return 0\n",
        "\n",
        "    address_data = data.get(address, {})\n",
        "    if not address_data:\n",
        "        return 0\n",
        "\n",
        "    balance_satoshis = address_data.get(\"address\", {}).get(\"balance\", 0)\n",
        "    return balance_satoshis / 100_000_000  # Convertir en BTC\n",
        "\n",
        "prefixes_to_check = [\"1\", \"3\", \"bc1\"]\n",
        "kp = generate_bitcoin_keypair_with_prefix(prefixes_to_check)\n",
        "\n",
        "print(\"\\nAdresse avec balance positive trouvée!\")\n",
        "print(\"Clé privée hex :\", kp[\"private_key_hex\"])\n",
        "print(\"Clé privée WIF :\", kp[\"wif_private_key\"])\n",
        "print(f\"Adresse ({kp['address_type']}) :\", kp[\"address\"], \"| Balance:\", kp[\"balance\"], \"BTC\")\n"
      ],
      "metadata": {
        "id": "DYq6YmBxY44v"
      },
      "execution_count": null,
      "outputs": []
    }
  ]
}