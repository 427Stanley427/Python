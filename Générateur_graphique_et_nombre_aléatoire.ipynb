{
  "nbformat": 4,
  "nbformat_minor": 0,
  "metadata": {
    "colab": {
      "provenance": [],
      "authorship_tag": "ABX9TyPaOQ5JFM+NBgvjLie9XkS5",
      "include_colab_link": true
    },
    "kernelspec": {
      "name": "python3",
      "display_name": "Python 3"
    },
    "language_info": {
      "name": "python"
    }
  },
  "cells": [
    {
      "cell_type": "markdown",
      "metadata": {
        "id": "view-in-github",
        "colab_type": "text"
      },
      "source": [
        "<a href=\"https://colab.research.google.com/github/427Stanley427/Python/blob/main/G%C3%A9n%C3%A9rateur_graphique_et_nombre_al%C3%A9atoire.ipynb\" target=\"_parent\"><img src=\"https://colab.research.google.com/assets/colab-badge.svg\" alt=\"Open In Colab\"/></a>"
      ]
    },
    {
      "cell_type": "code",
      "execution_count": null,
      "metadata": {
        "id": "CjMzoFz0NfDu"
      },
      "outputs": [],
      "source": [
        "import numpy as np\n",
        "import matplotlib.pyplot as plt\n",
        "\n",
        "# Génération d'une liste aléatoire de nombres\n",
        "np.random.seed(42)\n",
        "nombres = np.random.randint(1, 101, 50)  # 50 nombres aléatoires entre 1 et 100\n",
        "\n",
        "# Calcul des statistiques\n",
        "moyenne = np.mean(nombres)\n",
        "minimum = np.min(nombres)\n",
        "maximum = np.max(nombres)\n",
        "somme = np.sum(nombres)\n",
        "\n",
        "# Création d'un histogramme\n",
        "plt.figure(figsize=(10, 6))\n",
        "plt.hist(nombres, bins=20, color='blue', alpha=0.7)\n",
        "plt.title('Histogramme des nombres générés aléatoirement')\n",
        "plt.xlabel('Valeur')\n",
        "plt.ylabel('Fréquence')\n",
        "plt.axvline(moyenne, color='red', linestyle='dashed', linewidth=1, label=f'Moyenne = {moyenne:.2f}')\n",
        "plt.legend()\n",
        "plt.grid(True, which='both', linestyle='--', linewidth=0.5)\n",
        "plt.tight_layout()\n",
        "plt.show()\n",
        "\n",
        "moyenne, minimum, maximum, somme\n"
      ]
    }
  ]
}