{
  "nbformat": 4,
  "nbformat_minor": 0,
  "metadata": {
    "colab": {
      "provenance": [],
      "include_colab_link": true
    },
    "kernelspec": {
      "name": "python3",
      "display_name": "Python 3"
    },
    "language_info": {
      "name": "python"
    }
  },
  "cells": [
    {
      "cell_type": "markdown",
      "metadata": {
        "id": "view-in-github",
        "colab_type": "text"
      },
      "source": [
        "<a href=\"https://colab.research.google.com/github/427Stanley427/Python/blob/main/G%C3%A9n%C3%A9rer%20une%20paire%20de%20cl%C3%A9%20bitcoin%20avec%20prefix%20et%20balance%20positive.ipynb\" target=\"_parent\"><img src=\"https://colab.research.google.com/assets/colab-badge.svg\" alt=\"Open In Colab\"/></a>"
      ]
    },
    {
      "cell_type": "code",
      "source": [
        "pip install bitcoin"
      ],
      "metadata": {
        "id": "pcS15y9BWyoL"
      },
      "execution_count": null,
      "outputs": []
    },
    {
      "cell_type": "code",
      "source": [
        "pip install requests"
      ],
      "metadata": {
        "id": "Xz7zBun1Wy4i"
      },
      "execution_count": null,
      "outputs": []
    },
    {
      "cell_type": "code",
      "source": [
        "import requests\n",
        "import bitcoin\n",
        "\n",
        "def generate_bitcoin_keypair_with_prefix(prefix):\n",
        "    while True:\n",
        "        private_key = bitcoin.random_key()\n",
        "        public_key_uncompressed = bitcoin.privtopub(private_key)\n",
        "        address_uncompressed = bitcoin.pubtoaddr(public_key_uncompressed)\n",
        "\n",
        "        if address_uncompressed.startswith(prefix):\n",
        "            public_key_compressed = bitcoin.compress(bitcoin.decode_pubkey(public_key_uncompressed, 'hex'))\n",
        "            address_compressed = bitcoin.pubtoaddr(public_key_compressed)\n",
        "\n",
        "            wif_private_key = bitcoin.encode_privkey(bitcoin.decode_privkey(private_key, 'hex'), 'wif')\n",
        "\n",
        "            balance_uncompressed = get_balance(address_uncompressed)\n",
        "            balance_compressed = get_balance(address_compressed)\n",
        "\n",
        "            if balance_uncompressed > 0 or balance_compressed > 0:\n",
        "                return {\n",
        "                    \"private_key_hex\": private_key,\n",
        "                    \"wif_private_key\": wif_private_key,\n",
        "                    \"public_key_uncompressed\": public_key_uncompressed,\n",
        "                    \"public_key_compressed\": public_key_compressed,\n",
        "                    \"address_uncompressed\": address_uncompressed,\n",
        "                    \"address_compressed\": address_compressed,\n",
        "                    \"balance_uncompressed\": balance_uncompressed,\n",
        "                    \"balance_compressed\": balance_compressed\n",
        "                }\n",
        "\n",
        "def get_balance(address):\n",
        "    url = f\"https://api.blockchair.com/bitcoin/dashboards/address/{address}\"\n",
        "    response = requests.get(url)\n",
        "    data = response.json().get(\"data\", {})\n",
        "\n",
        "    if not data:\n",
        "        return 0\n",
        "\n",
        "    address_data = data.get(address, {})\n",
        "    if not address_data:\n",
        "        return 0\n",
        "\n",
        "    balance_satoshis = address_data.get(\"address\", {}).get(\"balance\", 0)\n",
        "    return balance_satoshis / 100_000_000  # Convertir en BTC\n",
        "\n",
        "kp = generate_bitcoin_keypair_with_prefix(\"1\")\n",
        "\n",
        "print(\"Clé privée hex :\", kp[\"private_key_hex\"])\n",
        "print(\"Clé privée WIF :\", kp[\"wif_private_key\"])\n",
        "print(\"Adresse non compressée :\", kp[\"address_uncompressed\"], \"| Balance:\", kp[\"balance_uncompressed\"], \"BTC\")\n",
        "print(\"Adresse compressée :\", kp[\"address_compressed\"], \"| Balance:\", kp[\"balance_compressed\"], \"BTC\")\n"
      ],
      "metadata": {
        "id": "d0huSXHMw5u8"
      },
      "execution_count": null,
      "outputs": []
    }
  ]
}