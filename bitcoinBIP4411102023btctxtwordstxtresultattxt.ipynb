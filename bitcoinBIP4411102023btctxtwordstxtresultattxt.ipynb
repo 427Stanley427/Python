{
  "nbformat": 4,
  "nbformat_minor": 0,
  "metadata": {
    "colab": {
      "provenance": [],
      "authorship_tag": "ABX9TyMDDdVox01wDd5Loqr4j1d+"
    },
    "kernelspec": {
      "name": "python3",
      "display_name": "Python 3"
    },
    "language_info": {
      "name": "python"
    }
  },
  "cells": [
    {
      "cell_type": "code",
      "execution_count": null,
      "metadata": {
        "id": "-LFpznv9MWPB"
      },
      "outputs": [],
      "source": [
        "pip install mnemonic hdwallet"
      ]
    },
    {
      "cell_type": "code",
      "source": [
        "import bitcoin\n",
        "import random\n",
        "from mnemonic import Mnemonic\n",
        "from hdwallet import BIP44HDWallet\n",
        "from hdwallet.derivations import P2PKH\n",
        "\n",
        "# Charger les adresses\n",
        "with open('btc.txt', 'r') as file:\n",
        "    addresses_set = set(line.strip() for line in file)\n",
        "\n",
        "# Charger les mots bip39\n",
        "with open('words.txt', 'r') as file:\n",
        "    bip39_words = [line.strip() for line in file if line.strip()]\n",
        "\n",
        "def is_address_in_set(address):\n",
        "    return address in addresses_set\n",
        "\n",
        "def generate_keypair_from_mnemonic(mnemonic):\n",
        "    # Générer un HD Wallet à partir de la mnemonic\n",
        "    bip44_wallet = BIP44HDWallet.derive_from_mnemonic(mnemonic, language=\"english\")\n",
        "    bip44_wallet.from_path(P2PKH.BIP44_CHANGE_CHAIN.format(c=0))\n",
        "    private_key = bip44_wallet.private_key()\n",
        "    address = bip44_wallet.address()\n",
        "    return private_key, address\n",
        "\n",
        "def generate_bitcoin_keypair_with_prefix(prefixes):\n",
        "    attempt_count = 0\n",
        "    file_count = 1\n",
        "    entries_in_current_file = 0\n",
        "\n",
        "    while True:\n",
        "        # Sélection des mots bip39\n",
        "        words_count = random.choice([3, 6, 12, 24])\n",
        "        selected_words = random.sample(bip39_words, words_count)\n",
        "        mnemonic = ' '.join(selected_words)\n",
        "\n",
        "        # Générer clé privée et adresse à partir de mnemonic\n",
        "        private_key, address = generate_keypair_from_mnemonic(mnemonic)\n",
        "\n",
        "        # ... [Code précédent]\n",
        "\n",
        "def generate_bitcoin_keypair_with_prefix(prefixes):\n",
        "    attempt_count = 0\n",
        "    file_count = 1\n",
        "    entries_in_current_file = 0\n",
        "\n",
        "    while True:\n",
        "        # Sélection des mots bip39\n",
        "        words_count = random.choice([3, 6, 12, 24])\n",
        "        selected_words = random.sample(bip39_words, words_count)\n",
        "        mnemonic = ' '.join(selected_words)\n",
        "\n",
        "        # Générer clé privée et adresse à partir de mnemonic\n",
        "        private_key, address = generate_keypair_from_mnemonic(mnemonic)\n",
        "\n",
        "        attempt_count += 1\n",
        "        entries_in_current_file += 1\n",
        "        print(f\"Adresse essayée : {address}\")\n",
        "\n",
        "        # Écrire dans random_N.txt tous les 50 000 essais\n",
        "        if entries_in_current_file > 50000:\n",
        "            entries_in_current_file = 1\n",
        "            file_count += 1\n",
        "\n",
        "        wif_private_key = bitcoin.encode_privkey(bitcoin.decode_privkey(private_key, 'hex'), 'wif')\n",
        "        with open(f'random_{file_count}.txt', 'a') as rand_file:\n",
        "            rand_file.write(f\"Essai n°{attempt_count}\\n\")\n",
        "            rand_file.write(f\"Clé privée hex : {private_key}\\n\")\n",
        "            rand_file.write(f\"Clé privée WIF : {wif_private_key}\\n\")\n",
        "            rand_file.write(f\"Adresse : {address}\\n\\n\")\n",
        "\n",
        "        if is_address_in_set(address):\n",
        "            # Si une correspondance est trouvée, on écrit les détails dans resultat.txt\n",
        "            with open('resultat.txt', 'a') as file:\n",
        "                file.write(f\"Clé privée hex : {private_key}\\n\")\n",
        "                file.write(f\"Clé privée WIF : {wif_private_key}\\n\")\n",
        "                file.write(f\"Adresse : {address}\\n\\n\")\n",
        "            return {\n",
        "                \"private_key_hex\": private_key,\n",
        "                \"wif_private_key\": wif_private_key,\n",
        "                \"address\": address\n",
        "            }\n",
        "\n",
        "prefixes_to_check = [\"1\", \"3\", \"bc1\"]\n",
        "kp = generate_bitcoin_keypair_with_prefix(prefixes_to_check)\n",
        "\n",
        "print(\"Clé privée hex :\", kp[\"private_key_hex\"])\n",
        "print(\"Clé privée WIF :\", kp[\"wif_private_key\"])\n",
        "print(f\"Adresse :\", kp[\"address\"])\n"
      ],
      "metadata": {
        "id": "47rYmdpHMYdX"
      },
      "execution_count": null,
      "outputs": []
    }
  ]
}