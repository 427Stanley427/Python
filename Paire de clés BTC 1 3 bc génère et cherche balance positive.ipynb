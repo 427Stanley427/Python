{
  "nbformat": 4,
  "nbformat_minor": 0,
  "metadata": {
    "colab": {
      "provenance": [],
      "include_colab_link": true
    },
    "kernelspec": {
      "name": "python3",
      "display_name": "Python 3"
    },
    "language_info": {
      "name": "python"
    }
  },
  "cells": [
    {
      "cell_type": "markdown",
      "metadata": {
        "id": "view-in-github",
        "colab_type": "text"
      },
      "source": [
        "<a href=\"https://colab.research.google.com/github/427Stanley427/Python/blob/main/Paire%20de%20cl%C3%A9s%20BTC%201%203%20bc%20g%C3%A9n%C3%A8re%20et%20cherche%20balance%20positive.ipynb\" target=\"_parent\"><img src=\"https://colab.research.google.com/assets/colab-badge.svg\" alt=\"Open In Colab\"/></a>"
      ]
    },
    {
      "cell_type": "code",
      "source": [
        "pip install bitcoin"
      ],
      "metadata": {
        "id": "pcS15y9BWyoL",
        "outputId": "9944a943-bccc-4472-9778-d3ed826c8801",
        "colab": {
          "base_uri": "https://localhost:8080/"
        }
      },
      "execution_count": 1,
      "outputs": [
        {
          "output_type": "stream",
          "name": "stdout",
          "text": [
            "Collecting bitcoin\n",
            "  Downloading bitcoin-1.1.42.tar.gz (36 kB)\n",
            "  Preparing metadata (setup.py) ... \u001b[?25l\u001b[?25hdone\n",
            "Building wheels for collected packages: bitcoin\n",
            "  Building wheel for bitcoin (setup.py) ... \u001b[?25l\u001b[?25hdone\n",
            "  Created wheel for bitcoin: filename=bitcoin-1.1.42-py3-none-any.whl size=44402 sha256=1e432818d918fbedd19bfe1a58b013465ef2773e292cc6633e13256a08059712\n",
            "  Stored in directory: /root/.cache/pip/wheels/a3/98/a1/0d53f5b714680bb5dffc2db778c221b1f5c54bc4a3a779c8c5\n",
            "Successfully built bitcoin\n",
            "Installing collected packages: bitcoin\n",
            "Successfully installed bitcoin-1.1.42\n"
          ]
        }
      ]
    },
    {
      "cell_type": "code",
      "source": [
        "pip install requests"
      ],
      "metadata": {
        "id": "Xz7zBun1Wy4i",
        "outputId": "00148be8-2fd8-4f0e-abab-1f4f49700ef7",
        "colab": {
          "base_uri": "https://localhost:8080/"
        }
      },
      "execution_count": 2,
      "outputs": [
        {
          "output_type": "stream",
          "name": "stdout",
          "text": [
            "Requirement already satisfied: requests in /usr/local/lib/python3.10/dist-packages (2.31.0)\n",
            "Requirement already satisfied: charset-normalizer<4,>=2 in /usr/local/lib/python3.10/dist-packages (from requests) (3.2.0)\n",
            "Requirement already satisfied: idna<4,>=2.5 in /usr/local/lib/python3.10/dist-packages (from requests) (3.4)\n",
            "Requirement already satisfied: urllib3<3,>=1.21.1 in /usr/local/lib/python3.10/dist-packages (from requests) (1.26.16)\n",
            "Requirement already satisfied: certifi>=2017.4.17 in /usr/local/lib/python3.10/dist-packages (from requests) (2023.7.22)\n"
          ]
        }
      ]
    },
    {
      "cell_type": "code",
      "source": [
        "import requests\n",
        "import bitcoin\n",
        "\n",
        "def generate_bitcoin_keypair_with_prefix(prefixes):\n",
        "    while True:\n",
        "        private_key = bitcoin.random_key()\n",
        "        public_key_uncompressed = bitcoin.privtopub(private_key)\n",
        "\n",
        "        # Générer une adresse P2PKH\n",
        "        address_p2pkh = bitcoin.pubtoaddr(public_key_uncompressed)\n",
        "        if address_p2pkh.startswith(\"1\") and \"1\" in prefixes:\n",
        "            address_type = \"P2PKH\"\n",
        "            address = address_p2pkh\n",
        "\n",
        "        # Générer une adresse P2SH\n",
        "        elif address_p2pkh.startswith(\"3\") and \"3\" in prefixes:\n",
        "            address_type = \"P2SH\"\n",
        "            address = address_p2pkh\n",
        "\n",
        "        # Générer une adresse SegWit P2WPKH\n",
        "        else:\n",
        "            address_segwit = bitcoin.pubtosegwitaddr(public_key_uncompressed)\n",
        "            if address_segwit.startswith(\"bc1\") and \"bc1\" in prefixes:\n",
        "                address_type = \"SegWit P2WPKH\"\n",
        "                address = address_segwit\n",
        "            else:\n",
        "                continue\n",
        "\n",
        "        wif_private_key = bitcoin.encode_privkey(bitcoin.decode_privkey(private_key, 'hex'), 'wif')\n",
        "        balance = get_balance(address)\n",
        "\n",
        "        if balance > 0:\n",
        "            return {\n",
        "                \"private_key_hex\": private_key,\n",
        "                \"wif_private_key\": wif_private_key,\n",
        "                \"address_type\": address_type,\n",
        "                \"address\": address,\n",
        "                \"balance\": balance\n",
        "            }\n",
        "\n",
        "def get_balance(address):\n",
        "    url = f\"https://api.blockchair.com/bitcoin/dashboards/address/{address}\"\n",
        "    response = requests.get(url)\n",
        "    data = response.json().get(\"data\", {})\n",
        "\n",
        "    if not data:\n",
        "        return 0\n",
        "\n",
        "    address_data = data.get(address, {})\n",
        "    if not address_data:\n",
        "        return 0\n",
        "\n",
        "    balance_satoshis = address_data.get(\"address\", {}).get(\"balance\", 0)\n",
        "    return balance_satoshis / 100_000_000  # Convertir en BTC\n",
        "\n",
        "prefixes_to_check = [\"1\", \"3\", \"bc1\"]\n",
        "kp = generate_bitcoin_keypair_with_prefix(prefixes_to_check)\n",
        "\n",
        "print(\"Clé privée hex :\", kp[\"private_key_hex\"])\n",
        "print(\"Clé privée WIF :\", kp[\"wif_private_key\"])\n",
        "print(f\"Adresse ({kp['address_type']}) :\", kp[\"address\"], \"| Balance:\", kp[\"balance\"], \"BTC\")\n"
      ],
      "metadata": {
        "id": "iKZv27HSCPDT"
      },
      "execution_count": null,
      "outputs": []
    }
  ]
}